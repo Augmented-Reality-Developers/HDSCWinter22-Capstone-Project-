{
 "cells": [
  {
   "cell_type": "code",
   "execution_count": 1,
   "metadata": {},
   "outputs": [],
   "source": [
    "import pandas as pd\n",
    "\n",
    "# Data Cleaning and preprocessing\n",
    "import numpy as np\n",
    "import re\n",
    "from wordcloud import STOPWORDS\n",
    "from nltk.corpus import stopwords\n",
    "from nltk.stem import WordNetLemmatizer\n",
    "from sklearn.feature_extraction.text import TfidfVectorizer\n",
    "\n",
    "# EDA\n",
    "import matplotlib.pyplot as plt\n",
    "import seaborn as sns\n",
    "import empiricaldist as emd\n",
    "\n",
    "# Modelling\n",
    "from sklearn.model_selection import train_test_split\n",
    "from sklearn.model_selection import cross_val_score\n",
    "from sklearn.preprocessing import LabelEncoder\n",
    "from sklearn.naive_bayes import MultinomialNB\n",
    "from sklearn.ensemble import RandomForestClassifier\n",
    "from sklearn.ensemble import AdaBoostClassifier\n",
    "from sklearn.ensemble import BaggingClassifier\n",
    "from sklearn.linear_model import LogisticRegression\n",
    "from sklearn.tree import DecisionTreeClassifier\n",
    "from sklearn.ensemble import GradientBoostingClassifier\n",
    "from xgboost import XGBClassifier\n",
    "from lightgbm import LGBMClassifier\n",
    "\n",
    "# Metrics\n",
    "from sklearn.metrics import accuracy_score"
   ]
  },
  {
   "cell_type": "code",
   "execution_count": 2,
   "metadata": {},
   "outputs": [],
   "source": [
    "personality = pd.read_csv('mbti_1.csv')"
   ]
  },
  {
   "cell_type": "code",
   "execution_count": 3,
   "metadata": {},
   "outputs": [
    {
     "data": {
      "text/html": [
       "<div>\n",
       "<style scoped>\n",
       "    .dataframe tbody tr th:only-of-type {\n",
       "        vertical-align: middle;\n",
       "    }\n",
       "\n",
       "    .dataframe tbody tr th {\n",
       "        vertical-align: top;\n",
       "    }\n",
       "\n",
       "    .dataframe thead th {\n",
       "        text-align: right;\n",
       "    }\n",
       "</style>\n",
       "<table border=\"1\" class=\"dataframe\">\n",
       "  <thead>\n",
       "    <tr style=\"text-align: right;\">\n",
       "      <th></th>\n",
       "      <th>type</th>\n",
       "      <th>posts</th>\n",
       "    </tr>\n",
       "  </thead>\n",
       "  <tbody>\n",
       "    <tr>\n",
       "      <th>0</th>\n",
       "      <td>INFJ</td>\n",
       "      <td>'http://www.youtube.com/watch?v=qsXHcwe3krw|||...</td>\n",
       "    </tr>\n",
       "    <tr>\n",
       "      <th>1</th>\n",
       "      <td>ENTP</td>\n",
       "      <td>'I'm finding the lack of me in these posts ver...</td>\n",
       "    </tr>\n",
       "    <tr>\n",
       "      <th>2</th>\n",
       "      <td>INTP</td>\n",
       "      <td>'Good one  _____   https://www.youtube.com/wat...</td>\n",
       "    </tr>\n",
       "    <tr>\n",
       "      <th>3</th>\n",
       "      <td>INTJ</td>\n",
       "      <td>'Dear INTP,   I enjoyed our conversation the o...</td>\n",
       "    </tr>\n",
       "    <tr>\n",
       "      <th>4</th>\n",
       "      <td>ENTJ</td>\n",
       "      <td>You're fired.|||That's another silly misconcep...</td>\n",
       "    </tr>\n",
       "  </tbody>\n",
       "</table>\n",
       "</div>"
      ],
      "text/plain": [
       "   type                                              posts\n",
       "0  INFJ  'http://www.youtube.com/watch?v=qsXHcwe3krw|||...\n",
       "1  ENTP  'I'm finding the lack of me in these posts ver...\n",
       "2  INTP  'Good one  _____   https://www.youtube.com/wat...\n",
       "3  INTJ  'Dear INTP,   I enjoyed our conversation the o...\n",
       "4  ENTJ  You're fired.|||That's another silly misconcep..."
      ]
     },
     "execution_count": 3,
     "metadata": {},
     "output_type": "execute_result"
    }
   ],
   "source": [
    "personality.head()"
   ]
  },
  {
   "cell_type": "code",
   "execution_count": 4,
   "metadata": {},
   "outputs": [
    {
     "name": "stdout",
     "output_type": "stream",
     "text": [
      "<class 'pandas.core.frame.DataFrame'>\n",
      "RangeIndex: 8675 entries, 0 to 8674\n",
      "Data columns (total 2 columns):\n",
      " #   Column  Non-Null Count  Dtype \n",
      "---  ------  --------------  ----- \n",
      " 0   type    8675 non-null   object\n",
      " 1   posts   8675 non-null   object\n",
      "dtypes: object(2)\n",
      "memory usage: 135.7+ KB\n"
     ]
    }
   ],
   "source": [
    "personality.info()"
   ]
  },
  {
   "cell_type": "code",
   "execution_count": 5,
   "metadata": {},
   "outputs": [],
   "source": [
    "# There seem to be no missing value."
   ]
  },
  {
   "cell_type": "markdown",
   "metadata": {},
   "source": [
    "## Consistency check"
   ]
  },
  {
   "cell_type": "code",
   "execution_count": 6,
   "metadata": {},
   "outputs": [
    {
     "data": {
      "text/plain": [
       "array(['INFJ', 'ENTP', 'INTP', 'INTJ', 'ENTJ', 'ENFJ', 'INFP', 'ENFP',\n",
       "       'ISFP', 'ISTP', 'ISFJ', 'ISTJ', 'ESTP', 'ESFP', 'ESTJ', 'ESFJ'],\n",
       "      dtype=object)"
      ]
     },
     "execution_count": 6,
     "metadata": {},
     "output_type": "execute_result"
    }
   ],
   "source": [
    "personality.type.unique()"
   ]
  },
  {
   "cell_type": "code",
   "execution_count": 7,
   "metadata": {},
   "outputs": [
    {
     "data": {
      "text/plain": [
       "16"
      ]
     },
     "execution_count": 7,
     "metadata": {},
     "output_type": "execute_result"
    }
   ],
   "source": [
    "len(personality.type.unique())\n",
    "# as expected, we have 16 unique personalities."
   ]
  },
  {
   "cell_type": "markdown",
   "metadata": {},
   "source": [
    "## Duplicates check"
   ]
  },
  {
   "cell_type": "code",
   "execution_count": 8,
   "metadata": {},
   "outputs": [],
   "source": [
    "dup = personality.duplicated()"
   ]
  },
  {
   "cell_type": "code",
   "execution_count": 9,
   "metadata": {},
   "outputs": [
    {
     "data": {
      "text/html": [
       "<div>\n",
       "<style scoped>\n",
       "    .dataframe tbody tr th:only-of-type {\n",
       "        vertical-align: middle;\n",
       "    }\n",
       "\n",
       "    .dataframe tbody tr th {\n",
       "        vertical-align: top;\n",
       "    }\n",
       "\n",
       "    .dataframe thead th {\n",
       "        text-align: right;\n",
       "    }\n",
       "</style>\n",
       "<table border=\"1\" class=\"dataframe\">\n",
       "  <thead>\n",
       "    <tr style=\"text-align: right;\">\n",
       "      <th></th>\n",
       "      <th>type</th>\n",
       "      <th>posts</th>\n",
       "    </tr>\n",
       "  </thead>\n",
       "  <tbody>\n",
       "  </tbody>\n",
       "</table>\n",
       "</div>"
      ],
      "text/plain": [
       "Empty DataFrame\n",
       "Columns: [type, posts]\n",
       "Index: []"
      ]
     },
     "execution_count": 9,
     "metadata": {},
     "output_type": "execute_result"
    }
   ],
   "source": [
    "personality[dup]\n",
    "# seems like there are also no duplicates"
   ]
  },
  {
   "cell_type": "markdown",
   "metadata": {},
   "source": [
    "## FURTHER CLEANING"
   ]
  },
  {
   "cell_type": "markdown",
   "metadata": {},
   "source": [
    "## Removing Links"
   ]
  },
  {
   "cell_type": "code",
   "execution_count": 10,
   "metadata": {},
   "outputs": [],
   "source": [
    "# for now we'll remove the links since majority are youtube links we're assuming that in some cases the links \n",
    "# are like an addition to some topic being talked about so the text itself is enough."
   ]
  },
  {
   "cell_type": "code",
   "execution_count": 11,
   "metadata": {},
   "outputs": [],
   "source": [
    "# in doing  a frequency count we noticed some mentions it might be necessary to remove all mentions"
   ]
  },
  {
   "cell_type": "code",
   "execution_count": 12,
   "metadata": {},
   "outputs": [
    {
     "name": "stdout",
     "output_type": "stream",
     "text": [
      "<re.Match object; span=(561, 589), match='https://youtu.be/7rlkSNUgr3I'>\n",
      "https://youtu.be/7rlkSNUgr3I\n",
      "<re.Match object; span=(802, 830), match='https://youtu.be/7XvD1QN3enQ'>\n",
      "https://youtu.be/7XvD1QN3enQ\n",
      "<re.Match object; span=(1061, 1091), match='http://i.imgur.com/mzCYWqD.jpg'>\n",
      "http://i.imgur.com/mzCYWqD.jpg\n",
      "<re.Match object; span=(1095, 1125), match='http://i.imgur.com/dPfVzIz.gif'>\n",
      "http://i.imgur.com/dPfVzIz.gif\n",
      "<re.Match object; span=(1524, 1552), match='https://youtu.be/-jou7uYu5Wo'>\n",
      "https://youtu.be/-jou7uYu5Wo\n",
      "<re.Match object; span=(1555, 1583), match='https://youtu.be/7XvD1QN3enQ'>\n",
      "https://youtu.be/7XvD1QN3enQ\n",
      "<re.Match object; span=(1586, 1614), match='https://youtu.be/TX_5UZHzuJk'>\n",
      "https://youtu.be/TX_5UZHzuJk\n",
      "<re.Match object; span=(1765, 1795), match='http://i.imgur.com/wtSawi3.jpg'>\n",
      "http://i.imgur.com/wtSawi3.jpg\n",
      "<re.Match object; span=(1840, 1870), match='http://i.imgur.com/q29k7LE.jpg'>\n",
      "http://i.imgur.com/q29k7LE.jpg\n",
      "<re.Match object; span=(2104, 2132), match='https://youtu.be/mVJjmyFfuts'>\n",
      "https://youtu.be/mVJjmyFfuts\n",
      "<re.Match object; span=(2400, 2430), match='http://i.imgur.com/sbIl5V1.gif'>\n",
      "http://i.imgur.com/sbIl5V1.gif\n",
      "<re.Match object; span=(2656, 2751), match='https://38.media.tumblr.com/1d8dbff1367d80ddf7970>\n",
      "https://38.media.tumblr.com/1d8dbff1367d80ddf797023b13f57d11/tumblr_n9dija4Q521qzi1jyo1_400.gif\n",
      "<re.Match object; span=(3983, 4078), match='http://38.media.tumblr.com/c75a236c6081b47ccf8fa8>\n",
      "http://38.media.tumblr.com/c75a236c6081b47ccf8fa85b3dd599f5/tumblr_inline_mjn0o4i7SJ1qz4rgp.gif\n",
      "<re.Match object; span=(4217, 4275), match='https://media.giphy.com/media/3o85xnoIXebk3xYx4Q/>\n",
      "https://media.giphy.com/media/3o85xnoIXebk3xYx4Q/giphy.gif\n",
      "<re.Match object; span=(4480, 4551), match='http://bbs.boingboing.net/uploads/boingboing/6101>\n",
      "http://bbs.boingboing.net/uploads/boingboing/61016/11fbe1d02cdb6ce8.gif\n",
      "<re.Match object; span=(4778, 4806), match='https://youtu.be/atoFs1Gj4Go'>\n",
      "https://youtu.be/atoFs1Gj4Go\n",
      "<re.Match object; span=(4885, 4913), match='https://youtu.be/b87B7zyucgI'>\n",
      "https://youtu.be/b87B7zyucgI\n",
      "<re.Match object; span=(4951, 4979), match='https://youtu.be/VrjwqXwyzNU'>\n",
      "https://youtu.be/VrjwqXwyzNU\n",
      "<re.Match object; span=(5464, 5492), match='https://youtu.be/lHRAPIwsS5I'>\n",
      "https://youtu.be/lHRAPIwsS5I\n"
     ]
    }
   ],
   "source": [
    "# finding regex to remove links\n",
    "link = '''Welp, I think this is finally the week that I'm going to tell my manager that I'm done.  \n",
    "'ve paid off all of my debt, my secondary savings have hit the point where I can live off of that for \n",
    "the...|||So, he avoided you over the weekend and now you plan on waiting for him to make the next move? \n",
    "Good luck with that.|||Trying to explain computer related things to computer illiterate people is painful. \n",
    "I took the day off and asked someone in my section to run a couple of data mining reports that I have to\n",
    "run...|||Probably my favorite band of all time.   https://youtu.be/7rlkSNUgr3I|||The guy is a red-blooded\n",
    "human male.  He was probably trying to impress you because he liked you and then you turned on him.  \n",
    "You seemed to have taken the ENTJ's word over his from the start and...|||*Pique  \n",
    "https://youtu.be/7XvD1QN3enQ|||I don't reply to texts saying I hope you had a good day or things of the \n",
    "sort either.  You didn't say anything that warrants a conversation and you didn't ask a question requiring\n",
    "an answer.   To...|||I dabble in video games:  http://i.imgur.com/mzCYWqD.jpg|||\n",
    "http://i.imgur.com/dPfVzIz.gif|||Definitely!  Words can't describe how much I dislike my current job and \n",
    "knowing that my escape plan is indeed a viable plan makes me a happy camper.|||So, I got accepted into\n",
    "the post-bacc Computer Science program I applied for!    My friends at work thought I was joking when I\n",
    "said I was done with my current job, but I was completely serious. ...|||.|||The last song I listened to\n",
    "in 2015    https://youtu.be/-jou7uYu5Wo|||https://youtu.be/7XvD1QN3enQ|||https://youtu.be/TX_5UZHzuJk|||\n",
    "You should probably talk to someone about this unresolved resentment you seem to be suppressing.\n",
    "||Breakfast - Cheesy grits with shredded chicken  http://i.imgur.com/wtSawi3.jpg  Lunch - Rice with \n",
    "baked shredded chicken  http://i.imgur.com/q29k7LE.jpg  Dinner - Cinnamon toast and...|||Small uninhabited\n",
    "island.  I love seafood and the beach and I hate humans.  Seems perfect.  :D|||Full disclosure: \n",
    "I'm totally in love with the flute player.  Also, NPR + good music = happy camper  \n",
    "https://youtu.be/mVJjmyFfuts|||This is relevant to my interests.  Super Mario RPG Legend of Zelda:\n",
    "A Link to the Past Legend of Zelda: Link's Awakening  3D Dot Game Heroes Trip World Shadowrun \n",
    "\n",
    "(Genesis) Demon's Souls ...|||When I encounter mindless conformity, my first reaction tends to be\n",
    ":  http://i.imgur.com/sbIl5V1.gif|||-Bowl of Honey Bunches of Oats -Turkey-burger \n",
    "-Seasoned imitation crab meat -2 pieces of tilapia|||More like this:  \n",
    "ftp://encrypted-tbn0.gstatic.com/images?q=tbn:ANd9GcSu4UbRLyqK4oBpcGTZUEGMR9oD-Z63lMlnGYyMD1LWbCdyoxe6|||https://38.media.tumblr.com/1d8dbff1367d80ddf797023b13f57d11/tumblr_n9dija4Q521qzi1jyo1_400.gif|||You look like a slightly happier version of Aubrey Plaza.|||So, care less then.  #ICouldn'tCareLess|||Seems like it would be pretty tough to stick an entire person in a magazine, let alone multiple people.|||I find this civilized life to be complete and utter bullshit.|||I'm all for people believing in what they want, but it really fucking annoys me when people come to my home and try to push their shit on me.  Just had some door to door salesmen come by and try to...|||I don't know about appreciating the input, but I did read it and mull it over.    We're not a monolith (thankfully) and I'm sure some will welcome and appreciate those comments, but I would fall...|||I collect old video games and have acquired a couple of shelving units' worth over the years, but it's all contained to one room and aside from that one room, my home is otherwise barren.    I...|||It bothers me that a lot of those posts are really just people looking at specific situations from their own perspectives and thinking that's how it should be.  The posters are asking INTJs to...|||If she were looking at me like that and wanted to get down, there's really no amount of facial hair that would keep me from accomplishing the task at hand.|||http://38.media.tumblr.com/c75a236c6081b47ccf8fa85b3dd599f5/tumblr_inline_mjn0o4i7SJ1qz4rgp.gif  <3   I have a serious weakness for women with dark hair and brown eyes, haha|||She's pretty amaze-balls.  That stare of hers :blushed:|||https://media.giphy.com/media/3o85xnoIXebk3xYx4Q/giphy.gif|||So my favorite cashier at a local thrift shop was working today.  She's pretty much my ideal woman and she opens up to me a little more each time we talk.  Today, she made a comment about a game I...|||http://bbs.boingboing.net/uploads/boingboing/61016/11fbe1d02cdb6ce8.gif|||10 years ago, I had trouble knowing when to walk away from or give up on someone I was crushing on.  Now, it almost seems like I drop people way too quickly, but I think my Bullshit Radar is just...|||My new crack: Ibeyi    https://youtu.be/atoFs1Gj4Go|||I love absurdities.  It's probably why I love Wes Anderson movies so much.  https://youtu.be/b87B7zyucgI|||Visually and aurally stimulating   https://youtu.be/VrjwqXwyzNU|||What's your major or degree in?|||I'm at my calmest and happiest when I'm in complete control of my self and my environment and I'm at my absolute worst when I have lost control of one or both.  I don't care whether or not I have...|||Yes.  Every last INTJ ever is/will be lactose intolerant.  If milk doesn't make you crap your pants, you're not a real INTJ.|||I don't even wear shoes in my own home, so I completely understand people not wanting me to wear shoes in their home.|||https://youtu.be/lHRAPIwsS5I|||You should stop approaching relationships and love like they're matches to be won or challenges to be toppled.  People are irrational, emotional and ever changing and because of that, you're only...|||.|||I just woke up out of the weirdest dream I've had in a while:  I was at a small sports field (like a high school track) sitting on \n",
    "some bleachers with someone that I assume was my best friend.  To...'''\n",
    "url_pattern = re.compile(r'https?://(www\\.)?([\\w.]+)(\\.\\w*)/?[\\w\\!\\£\\$\\%\\^\\&\\*\\(\\)\\_\\+\\-\\=\\{\\\n",
    "\\}\\~\\[\\]\\#\\:\\@\\;\\'\\<\\>\\?\\,\\.\\/\\\\]+')\n",
    "\n",
    "url_match = url_pattern.finditer(link)\n",
    "for url_mat in url_match:\n",
    "    print(url_mat)\n",
    "    print(url_mat.group(0))\n",
    "\n"
   ]
  },
  {
   "cell_type": "code",
   "execution_count": 13,
   "metadata": {},
   "outputs": [
    {
     "name": "stdout",
     "output_type": "stream",
     "text": [
      "to...@\n"
     ]
    }
   ],
   "source": [
    "# finding regex to remove mentions\n",
    "s = '''That's fair. I think I misinterpreted you originally, but now that makes a lot of sense. Thank you for the explanation!|||Maybe in quality of thought and opinions in some cases, but definitely not when it comes to being an independent adult who functions smoothly and has a stable career and remembers to do things like...|||Out-patient is where you go to a therapuetic program during the day while still living at home, while in-patient is either a) mental hospitals or b) rehab or c) residential treatment centers, which...|||Professionally diagnosed with Major Depressive Disorder, Generalized Anxiety Disorder, PTSD and Body Dysmorphic Disorder.  I'm a trainwreck, I know.|||Sorry to revive a slightly old post, but typing this series has been nagging the hell out of me. Initially I assumed Saikawa was an INTP and Magata an INTJ, but after completing the series I actually...|||I tested as an INFJ for... some reason. I actually bounced between nearly every feeler type for years before I studied the functions and realized that me being overemotional doesn't mean I'm a...|||I think a lot of people mistype in general, but I do agree that INTJ does seem like a desirable type for your average socially awkward nerd to want to be.  At the same time, however, I feel like...|||No, I don't normally get bothered by feelers. But I also seem to be lot more in touch and skillful with my inferior Fe than most IxTPs (just going by the internet because I know like, one IxTP in...|||Gotta learn how to camouflage as a Ne dom in social situations. Really the only time you can use Ti or Si socially is one on one with people you are very close with--and as an INTP who is honestly...|||I'm a respectful artist, apparently.  432898  dat confidence score tho.   Don't know how accurate this thing is over all. I feel like my trust would be lower and my confidence slightly higher,...|||I also would third that Amy seems like more of an ISFP to me, but it's been a while since I've seen the show so I could be totally wrong (and I've only seen season 1 and like the first few episodes...|||I hate smelling bad. I never go a day without a shower and always carry deodorant and perfume in my purse just in case. You guys are gross. I always thought this stereotype was false but guess not!|||Don't have too many thoughts other than terrorism is always awful, but Isis and other Islam practicing terrorist groups actually represent a tiny percent of Muslims as a whole (as Islam is honestly a...|||INTP female.  54.167 out of 100 masculine points, 55.833 out of 100 feminine points, and 67.5 out of 100 androgynous (neutral) points.|||The thing about astrology most people don't realize is that it's actually incredibly complicated and unique to every person. You aren't just a Capricorn; that's just your sun sign. For everyone's...|||INFP   https://www.youtube.com/watch?v=xI6vUbKJ24g|||It's not impossible at all! In fact, it's completely logical when you compare auxiliary Ti to a 5's fixation on gathering and developing knowledge. They're quite similar concepts.  Also, IMHO,...|||What do you guys think about Minnesota? I grew up there and I know that at least from my impression, Canada and Minnesota always seemed strikingly similar in terms of stereotypes and culture. However...|||Ne One Like this? Don't know why I added the underscore, seems a little silly in hindsight. Thank you for your help!|||I do as well! But if I'm only relying on my (not too great) Fe for too long I can eventually come off really uncomfortable and stilted and kind of like a pushover. Once I can get comfortable enough...|||But see, this is actually a huge flaw in our education system and in our socially enforced measurement of intelligence, because intelligence is inherently unmeasurable and impossible to score or...|||@Ne_One I agree with you, I think 'feel' isn't uncommonly used not in the literal sense, but as you mentioned, as a synonym for describing the experience of something or the sensation of something. I...|||INFJ. Vampires feel so Ni to me.|||From your description I'd definitely say you seem to use Fi over Fe. You mentioned that your external behavior seems more Fe but I really wouldn't stress on that too much. Fi is all about personal...|||I'm not sure how you could come to that conclusion if you were doing cognitive function studies as INTPs and INTJs have very different function stacks? You're looking at Ni-Te vs. Ti-Ne, which are...|||Alright! Literally just joined this forum butx85 why not, right?  Having Ti isnx92t really a feeling, Ix92d say. I thought it was a very very normal way of experiencing things until\n",
    "I eventually came to...@jjdj3$$!!w'w '''\n",
    "patt = re.compile(r'[\\w\\!\\£\\$\\%\\^\\&\\*\\(\\)\\_\\+\\-\\=\\{\\\\}\\~\\[\\]\\#\\:\\@\\;\\'\\<\\>\\?\\,\\.\\/\\\\]+@')\n",
    "at =  patt.finditer(s)\n",
    "\n",
    "for a in at:\n",
    "    print(a.group(0))"
   ]
  },
  {
   "cell_type": "code",
   "execution_count": 14,
   "metadata": {},
   "outputs": [],
   "source": [
    "def remlinks_symbs(df):\n",
    "    '''This function creates a new column with the links, mentions, symbols and numbers removed in the\n",
    "    data set'''\n",
    "    df['post'] = df.posts\n",
    "    \n",
    "    # replacing link with nothing\n",
    "    df.post.replace(r'(https?:\\/\\/|ftp:\\/\\/)+[\\w/\\-?=%.]+\\.[\\w\\!\\£\\$\\%\\^\\&\\*\\(\\)\\_\\+\\-\\=\\{\\\n",
    "    \\}\\~\\[\\]\\#\\:\\@\\;\\'\\<\\>\\?\\,\\.\\/\\\\]+', '', regex= True, inplace= True)\n",
    "    \n",
    "    # instead of replacing mentions , i'll count mentions.\n",
    "    df.post.replace(r'@[\\w\\!\\£\\$\\%\\^\\&\\*\\(\\)\\_\\+\\-\\=\\{\\\\}\\~\\[\\]\\#\\:\\@\\;\\'\\<\\>\\?\\,\\.\\/\\\\]+', '', \n",
    "                    regex= True, inplace= True)\n",
    "    \n",
    "    # replacing one or more symbols except ', | and _ with space\n",
    "    # im leaving the ||| to be able to implement ngrams sentence wise\n",
    "    df.post.replace(r'[^\\w^\\'^|]+', ' ', regex = True, inplace = True)\n",
    "    \n",
    "    #removes numbers\n",
    "    df.post.replace(r'\\d+', '', regex = True, inplace = True)\n",
    "    \n",
    "    #replacing underscores with nothing\n",
    "    df.post.replace(r'_', '', regex = True, inplace = True)\n",
    "    return df\n",
    "\n",
    "# removing apostrophe from beginning and end of posts and leaving them in some words so as to remove \n",
    "# stopwords.\n",
    "def rem_pos(post):\n",
    "    if post[0] == '\\'' and post[-1]=='\\'':\n",
    "        post = post[1:-1]\n",
    "    elif post[0] == '\\'':\n",
    "        post = post[1:]\n",
    "    elif post[-1]=='\\'':\n",
    "        post = post[:-1]\n",
    "    else:\n",
    "        pass\n",
    "    return post\n"
   ]
  },
  {
   "cell_type": "code",
   "execution_count": 15,
   "metadata": {},
   "outputs": [],
   "source": [
    "stopwords_better = list(STOPWORDS)\n",
    "for remove in ['\\'', '\\'s', '^', '^^']:\n",
    "    stopwords_better.append(remove)"
   ]
  },
  {
   "cell_type": "code",
   "execution_count": 16,
   "metadata": {},
   "outputs": [],
   "source": [
    "for a in stopwords.words('english'):\n",
    "    stopwords_better.append(a)"
   ]
  },
  {
   "cell_type": "code",
   "execution_count": 17,
   "metadata": {
    "scrolled": false
   },
   "outputs": [],
   "source": [
    "# better list of stopwords\n",
    "stopwords_better = list(set(stopwords_better))"
   ]
  },
  {
   "cell_type": "code",
   "execution_count": 18,
   "metadata": {},
   "outputs": [],
   "source": [
    "def lemmatizee(the_list):\n",
    "    lemmatizer = WordNetLemmatizer()\n",
    "    return [lemmatizer.lemmatize(a, pos= 'a') for a in the_list.split()]\n",
    "\n",
    "def BOW(train_data, test_data, ngrams= 1): \n",
    "    '''This does all cleaning and returns the bag of documents vector for both train and test data\n",
    "    note that you have to manually supply train and test data'''\n",
    "    \n",
    "    # for train_data\n",
    "    # here we apply the clean function above\n",
    "    train_data = remlinks_symbs(train_data)\n",
    "    \n",
    "    #for test_data\n",
    "    test_data = remlinks_symbs(test_data)\n",
    "    \n",
    "    if ngrams == 1:\n",
    "        train_data.post.replace(r'[^\\w^\\']+', ' ', regex = True, inplace = True)\n",
    "        train_data.post = train_data.post.apply(rem_pos)\n",
    "            \n",
    "        test_data.post.replace(r'[^\\w^\\']+', ' ', regex = True, inplace = True)\n",
    "        test_data.post = test_data.post.apply(rem_pos)\n",
    "        \n",
    "        # tokenizing words and making the vectors\n",
    "        vectorizer=TfidfVectorizer(max_features= 3500, stop_words= stopwords_better, tokenizer= \n",
    "                                   lemmatizee, token_pattern= '(?u)\\\\b\\\\w+\\'\\w+\\\\b')\n",
    "        char_array_tr = vectorizer.fit_transform(train_data.post).toarray()\n",
    "        char_array_te = vectorizer.transform(test_data.post).toarray()\n",
    "        \n",
    "        frequency_matrix_tr = pd.DataFrame(char_array_tr, columns= vectorizer.get_feature_names_out())\n",
    "        frequency_matrix_te = pd.DataFrame(char_array_te, columns= vectorizer.get_feature_names_out())\n",
    "    else:\n",
    "        pass\n",
    "    return (frequency_matrix_tr, frequency_matrix_te)\n",
    "        "
   ]
  },
  {
   "cell_type": "markdown",
   "metadata": {},
   "source": [
    "# EDA AND FEATURE CREATION."
   ]
  },
  {
   "cell_type": "markdown",
   "metadata": {},
   "source": [
    "### Quick note on the personalities.\n",
    "Favorite world: Do you prefer to focus on the outer world or on your own inner world? This is called Extraversion (E) or Introversion (I).\n",
    "\n",
    "\n",
    "Information: Do you prefer to focus on the basic information you take in or do you prefer to interpret and add meaning? This is called Sensing (S) or Intuition (N).\n",
    "\n",
    "\n",
    "Decisions: When making decisions, do you prefer to first look at logic and consistency or first look at the people and special circumstances? This is called Thinking (T) or Feeling (F).\n",
    "\n",
    "\n",
    "Structure: In dealing with the outside world, do you prefer to get things decided or do you prefer to stay open to new information and options? This is called Judging (J) or Perceiving (P).\n",
    "\n",
    "\n",
    "Your Personality Type: When you decide on your preference in each category, you have your own personality type, which can be expressed as a code with four letters.\n",
    "\n",
    "\n",
    "The 16 personality types of the Myers-Briggs Type Indicator® instrument are listed here as they are often shown in what is called a \"type table.\""
   ]
  },
  {
   "cell_type": "markdown",
   "metadata": {},
   "source": [
    "## QUICK NOTE ON THE DATA COLLECTION\n",
    "The data was collected from the posts of people in the personality cafe which is a community where you can\n",
    "\n",
    "- Follow topics that matter to you\n",
    "- Connect with those who share your interests\n",
    "- Learn from the experts in our community\n",
    "you can also ask, comment, and connect!"
   ]
  },
  {
   "cell_type": "code",
   "execution_count": 19,
   "metadata": {},
   "outputs": [],
   "source": [
    "# Let's see the distribution of personallties\n",
    "dist_personality = personality.type.value_counts(normalize= False)"
   ]
  },
  {
   "cell_type": "code",
   "execution_count": 20,
   "metadata": {},
   "outputs": [
    {
     "data": {
      "text/plain": [
       "INFP    1832\n",
       "INFJ    1470\n",
       "INTP    1304\n",
       "INTJ    1091\n",
       "ENTP     685\n",
       "ENFP     675\n",
       "ISTP     337\n",
       "ISFP     271\n",
       "ENTJ     231\n",
       "ISTJ     205\n",
       "ENFJ     190\n",
       "ISFJ     166\n",
       "ESTP      89\n",
       "ESFP      48\n",
       "ESFJ      42\n",
       "ESTJ      39\n",
       "Name: type, dtype: int64"
      ]
     },
     "execution_count": 20,
     "metadata": {},
     "output_type": "execute_result"
    }
   ],
   "source": [
    "dist_personality"
   ]
  },
  {
   "cell_type": "code",
   "execution_count": 21,
   "metadata": {},
   "outputs": [
    {
     "data": {
      "text/plain": [
       "<matplotlib.axes._subplots.AxesSubplot at 0x28edad8c1f0>"
      ]
     },
     "execution_count": 21,
     "metadata": {},
     "output_type": "execute_result"
    },
    {
     "data": {
      "image/png": "[encoded data removed]",
      "text/plain": [
       "<Figure size 432x288 with 1 Axes>"
      ]
     },
     "metadata": {
      "needs_background": "light"
     },
     "output_type": "display_data"
    }
   ],
   "source": [
    "dist_personality.plot(kind='bar')"
   ]
  },
  {
   "cell_type": "code",
   "execution_count": 22,
   "metadata": {},
   "outputs": [],
   "source": [
    "# from first glance it seems we have more introverts in this sample."
   ]
  },
  {
   "cell_type": "code",
   "execution_count": 23,
   "metadata": {},
   "outputs": [],
   "source": [
    "# instead of just removing links we reconned that introverts might have more time online and a way to get \n",
    "# that from the data could be to get amount of links shared by each person and compare the distribution \n",
    "# neglecting outliers of course. # number of mentions we feel won't reflect online presence since everyone\n",
    "# has 50 posts from the data collectiong as given in the description in kaggle and we can't exactly say\n",
    "# introverts mention people the most. So another feature could be no of links shared."
   ]
  },
  {
   "cell_type": "code",
   "execution_count": 24,
   "metadata": {},
   "outputs": [],
   "source": [
    "def online_frequency(col):\n",
    "    '''This function gets the could of links shared in all of the persons post'''\n",
    "    url_pattern = re.compile(r'(https?:\\/\\/|ftp:\\/\\/)+[\\w/\\-?=%.]+\\.[\\w\\!\\£\\$\\%\\^\\&\\*\\(\\)\\_\\+\\-\\=\\{\\\\}\\~\\[\\]\\#\\:\\@\\;\\'\\<\\>\\?\\,\\.\\/\\\\]+')\n",
    "    site_visits= []\n",
    "    count = 0\n",
    "    for p in col:\n",
    "        url_match = url_pattern.finditer(p)\n",
    "        for url_mat in url_match:\n",
    "            count +=1\n",
    "        site_visits.append(count)\n",
    "        count= 0\n",
    "    return site_visits\n"
   ]
  },
  {
   "cell_type": "code",
   "execution_count": 25,
   "metadata": {},
   "outputs": [],
   "source": [
    "personality['online_freq'] = online_frequency(personality.posts)"
   ]
  },
  {
   "cell_type": "code",
   "execution_count": 26,
   "metadata": {},
   "outputs": [],
   "source": [
    "# distribution of online_frequency to verify our thesis."
   ]
  },
  {
   "cell_type": "code",
   "execution_count": 27,
   "metadata": {},
   "outputs": [
    {
     "data": {
      "text/html": [
       "<div>\n",
       "<style scoped>\n",
       "    .dataframe tbody tr th:only-of-type {\n",
       "        vertical-align: middle;\n",
       "    }\n",
       "\n",
       "    .dataframe tbody tr th {\n",
       "        vertical-align: top;\n",
       "    }\n",
       "\n",
       "    .dataframe thead th {\n",
       "        text-align: right;\n",
       "    }\n",
       "</style>\n",
       "<table border=\"1\" class=\"dataframe\">\n",
       "  <thead>\n",
       "    <tr style=\"text-align: right;\">\n",
       "      <th></th>\n",
       "      <th>type</th>\n",
       "      <th>posts</th>\n",
       "      <th>online_freq</th>\n",
       "    </tr>\n",
       "  </thead>\n",
       "  <tbody>\n",
       "    <tr>\n",
       "      <th>0</th>\n",
       "      <td>INFJ</td>\n",
       "      <td>'http://www.youtube.com/watch?v=qsXHcwe3krw|||...</td>\n",
       "      <td>24</td>\n",
       "    </tr>\n",
       "    <tr>\n",
       "      <th>1</th>\n",
       "      <td>ENTP</td>\n",
       "      <td>'I'm finding the lack of me in these posts ver...</td>\n",
       "      <td>9</td>\n",
       "    </tr>\n",
       "    <tr>\n",
       "      <th>2</th>\n",
       "      <td>INTP</td>\n",
       "      <td>'Good one  _____   https://www.youtube.com/wat...</td>\n",
       "      <td>5</td>\n",
       "    </tr>\n",
       "    <tr>\n",
       "      <th>3</th>\n",
       "      <td>INTJ</td>\n",
       "      <td>'Dear INTP,   I enjoyed our conversation the o...</td>\n",
       "      <td>2</td>\n",
       "    </tr>\n",
       "    <tr>\n",
       "      <th>4</th>\n",
       "      <td>ENTJ</td>\n",
       "      <td>You're fired.|||That's another silly misconcep...</td>\n",
       "      <td>6</td>\n",
       "    </tr>\n",
       "  </tbody>\n",
       "</table>\n",
       "</div>"
      ],
      "text/plain": [
       "   type                                              posts  online_freq\n",
       "0  INFJ  'http://www.youtube.com/watch?v=qsXHcwe3krw|||...           24\n",
       "1  ENTP  'I'm finding the lack of me in these posts ver...            9\n",
       "2  INTP  'Good one  _____   https://www.youtube.com/wat...            5\n",
       "3  INTJ  'Dear INTP,   I enjoyed our conversation the o...            2\n",
       "4  ENTJ  You're fired.|||That's another silly misconcep...            6"
      ]
     },
     "execution_count": 27,
     "metadata": {},
     "output_type": "execute_result"
    }
   ],
   "source": [
    "personality.head()"
   ]
  },
  {
   "cell_type": "code",
   "execution_count": 28,
   "metadata": {},
   "outputs": [
    {
     "data": {
      "text/plain": [
       "<seaborn.axisgrid.FacetGrid at 0x28edac953d0>"
      ]
     },
     "execution_count": 28,
     "metadata": {},
     "output_type": "execute_result"
    },
    {
     "data": {
      "image/png": "[encoded data removed]",
      "text/plain": [
       "<Figure size 864x576 with 1 Axes>"
      ]
     },
     "metadata": {
      "needs_background": "light"
     },
     "output_type": "display_data"
    }
   ],
   "source": [
    "# Distribution of assumed online activity.\n",
    "sns.catplot('type', 'online_freq', kind= 'box', data= personality, height= 8, aspect=1.5, )"
   ]
  },
  {
   "cell_type": "code",
   "execution_count": 29,
   "metadata": {},
   "outputs": [],
   "source": [
    "# we actually notice smaller distributions among extroverts but this could just be due to the fact that they\n",
    "# are less in the sample but why are they less ?. As extroversion implies they prefer the outside world."
   ]
  },
  {
   "cell_type": "code",
   "execution_count": 30,
   "metadata": {},
   "outputs": [],
   "source": [
    "# let's generalize more \n",
    "def intro_extro(text):\n",
    "    if 'I' in text:\n",
    "        return 'Introversion'\n",
    "    else:\n",
    "        return 'Extroversion'"
   ]
  },
  {
   "cell_type": "code",
   "execution_count": 31,
   "metadata": {},
   "outputs": [],
   "source": [
    "personality['Intro_extro'] = personality.type.apply(intro_extro)"
   ]
  },
  {
   "cell_type": "code",
   "execution_count": 32,
   "metadata": {},
   "outputs": [
    {
     "data": {
      "text/html": [
       "<div>\n",
       "<style scoped>\n",
       "    .dataframe tbody tr th:only-of-type {\n",
       "        vertical-align: middle;\n",
       "    }\n",
       "\n",
       "    .dataframe tbody tr th {\n",
       "        vertical-align: top;\n",
       "    }\n",
       "\n",
       "    .dataframe thead th {\n",
       "        text-align: right;\n",
       "    }\n",
       "</style>\n",
       "<table border=\"1\" class=\"dataframe\">\n",
       "  <thead>\n",
       "    <tr style=\"text-align: right;\">\n",
       "      <th></th>\n",
       "      <th>type</th>\n",
       "      <th>posts</th>\n",
       "      <th>online_freq</th>\n",
       "      <th>Intro_extro</th>\n",
       "    </tr>\n",
       "  </thead>\n",
       "  <tbody>\n",
       "    <tr>\n",
       "      <th>0</th>\n",
       "      <td>INFJ</td>\n",
       "      <td>'http://www.youtube.com/watch?v=qsXHcwe3krw|||...</td>\n",
       "      <td>24</td>\n",
       "      <td>Introversion</td>\n",
       "    </tr>\n",
       "    <tr>\n",
       "      <th>1</th>\n",
       "      <td>ENTP</td>\n",
       "      <td>'I'm finding the lack of me in these posts ver...</td>\n",
       "      <td>9</td>\n",
       "      <td>Extroversion</td>\n",
       "    </tr>\n",
       "    <tr>\n",
       "      <th>2</th>\n",
       "      <td>INTP</td>\n",
       "      <td>'Good one  _____   https://www.youtube.com/wat...</td>\n",
       "      <td>5</td>\n",
       "      <td>Introversion</td>\n",
       "    </tr>\n",
       "    <tr>\n",
       "      <th>3</th>\n",
       "      <td>INTJ</td>\n",
       "      <td>'Dear INTP,   I enjoyed our conversation the o...</td>\n",
       "      <td>2</td>\n",
       "      <td>Introversion</td>\n",
       "    </tr>\n",
       "    <tr>\n",
       "      <th>4</th>\n",
       "      <td>ENTJ</td>\n",
       "      <td>You're fired.|||That's another silly misconcep...</td>\n",
       "      <td>6</td>\n",
       "      <td>Extroversion</td>\n",
       "    </tr>\n",
       "  </tbody>\n",
       "</table>\n",
       "</div>"
      ],
      "text/plain": [
       "   type                                              posts  online_freq  \\\n",
       "0  INFJ  'http://www.youtube.com/watch?v=qsXHcwe3krw|||...           24   \n",
       "1  ENTP  'I'm finding the lack of me in these posts ver...            9   \n",
       "2  INTP  'Good one  _____   https://www.youtube.com/wat...            5   \n",
       "3  INTJ  'Dear INTP,   I enjoyed our conversation the o...            2   \n",
       "4  ENTJ  You're fired.|||That's another silly misconcep...            6   \n",
       "\n",
       "    Intro_extro  \n",
       "0  Introversion  \n",
       "1  Extroversion  \n",
       "2  Introversion  \n",
       "3  Introversion  \n",
       "4  Extroversion  "
      ]
     },
     "execution_count": 32,
     "metadata": {},
     "output_type": "execute_result"
    }
   ],
   "source": [
    "personality.head()"
   ]
  },
  {
   "cell_type": "code",
   "execution_count": 33,
   "metadata": {},
   "outputs": [
    {
     "data": {
      "text/plain": [
       "Introversion    0.769568\n",
       "Extroversion    0.230432\n",
       "Name: Intro_extro, dtype: float64"
      ]
     },
     "execution_count": 33,
     "metadata": {},
     "output_type": "execute_result"
    }
   ],
   "source": [
    "# let's get a clearer view of ratio of introverts to extroverts\n",
    "personality['Intro_extro'].value_counts(normalize= True)"
   ]
  },
  {
   "cell_type": "markdown",
   "metadata": {},
   "source": [
    "we have 77% of introverts in the dataset, that's imbalanced"
   ]
  },
  {
   "cell_type": "code",
   "execution_count": 34,
   "metadata": {},
   "outputs": [
    {
     "data": {
      "text/plain": [
       "<seaborn.axisgrid.FacetGrid at 0x28edb24ab20>"
      ]
     },
     "execution_count": 34,
     "metadata": {},
     "output_type": "execute_result"
    },
    {
     "data": {
      "image/png": "[encoded data removed]",
      "text/plain": [
       "<Figure size 864x576 with 1 Axes>"
      ]
     },
     "metadata": {
      "needs_background": "light"
     },
     "output_type": "display_data"
    }
   ],
   "source": [
    "# better distribution of assumed online activity\n",
    "sns.catplot('Intro_extro', 'online_freq', kind= 'box', data= personality, height= 8, aspect=1.5)"
   ]
  },
  {
   "cell_type": "code",
   "execution_count": 35,
   "metadata": {},
   "outputs": [
    {
     "data": {
      "text/html": [
       "<div>\n",
       "<style scoped>\n",
       "    .dataframe tbody tr th:only-of-type {\n",
       "        vertical-align: middle;\n",
       "    }\n",
       "\n",
       "    .dataframe tbody tr th {\n",
       "        vertical-align: top;\n",
       "    }\n",
       "\n",
       "    .dataframe thead th {\n",
       "        text-align: right;\n",
       "    }\n",
       "</style>\n",
       "<table border=\"1\" class=\"dataframe\">\n",
       "  <thead>\n",
       "    <tr style=\"text-align: right;\">\n",
       "      <th></th>\n",
       "      <th>type</th>\n",
       "      <th>posts</th>\n",
       "      <th>online_freq</th>\n",
       "      <th>Intro_extro</th>\n",
       "    </tr>\n",
       "  </thead>\n",
       "  <tbody>\n",
       "    <tr>\n",
       "      <th>382</th>\n",
       "      <td>ISTP</td>\n",
       "      <td>'Rough. Trade.|||https://www.youtube.com/watch...</td>\n",
       "      <td>91</td>\n",
       "      <td>Introversion</td>\n",
       "    </tr>\n",
       "    <tr>\n",
       "      <th>521</th>\n",
       "      <td>INTJ</td>\n",
       "      <td>'I'm bored as hell and there isn't anything to...</td>\n",
       "      <td>85</td>\n",
       "      <td>Introversion</td>\n",
       "    </tr>\n",
       "  </tbody>\n",
       "</table>\n",
       "</div>"
      ],
      "text/plain": [
       "     type                                              posts  online_freq  \\\n",
       "382  ISTP  'Rough. Trade.|||https://www.youtube.com/watch...           91   \n",
       "521  INTJ  'I'm bored as hell and there isn't anything to...           85   \n",
       "\n",
       "      Intro_extro  \n",
       "382  Introversion  \n",
       "521  Introversion  "
      ]
     },
     "execution_count": 35,
     "metadata": {},
     "output_type": "execute_result"
    }
   ],
   "source": [
    "# wanted to verify the outliers to be sure the regex did the right thing.\n",
    "personality[personality.online_freq >80]"
   ]
  },
  {
   "cell_type": "code",
   "execution_count": 36,
   "metadata": {},
   "outputs": [
    {
     "data": {
      "text/plain": [
       "([<matplotlib.axis.XTick at 0x28edb1b9910>,\n",
       "  <matplotlib.axis.XTick at 0x28edb1b95b0>,\n",
       "  <matplotlib.axis.XTick at 0x28edaef8a30>,\n",
       "  <matplotlib.axis.XTick at 0x28edae5f6a0>,\n",
       "  <matplotlib.axis.XTick at 0x28edae5f610>,\n",
       "  <matplotlib.axis.XTick at 0x28edac95190>,\n",
       "  <matplotlib.axis.XTick at 0x28edae5fc70>,\n",
       "  <matplotlib.axis.XTick at 0x28edada6370>,\n",
       "  <matplotlib.axis.XTick at 0x28edb259340>,\n",
       "  <matplotlib.axis.XTick at 0x28edb2134c0>,\n",
       "  <matplotlib.axis.XTick at 0x28edae6ae80>,\n",
       "  <matplotlib.axis.XTick at 0x28edaef8df0>,\n",
       "  <matplotlib.axis.XTick at 0x28edb6af1f0>,\n",
       "  <matplotlib.axis.XTick at 0x28edb6a1dc0>,\n",
       "  <matplotlib.axis.XTick at 0x28edb26c310>,\n",
       "  <matplotlib.axis.XTick at 0x28edb26cc10>,\n",
       "  <matplotlib.axis.XTick at 0x28edae97580>,\n",
       "  <matplotlib.axis.XTick at 0x28edae453d0>,\n",
       "  <matplotlib.axis.XTick at 0x28edae45bb0>,\n",
       "  <matplotlib.axis.XTick at 0x28edaef1ac0>],\n",
       " <a list of 20 Text major ticklabel objects>)"
      ]
     },
     "execution_count": 36,
     "metadata": {},
     "output_type": "execute_result"
    },
    {
     "data": {
      "image/png": "[encoded data removed]",
      "text/plain": [
       "<Figure size 864x720 with 1 Axes>"
      ]
     },
     "metadata": {
      "needs_background": "light"
     },
     "output_type": "display_data"
    }
   ],
   "source": [
    "# A cdf will be better\n",
    "plt.figure(figsize=(12,10))\n",
    "intro = emd.Cdf.from_seq(personality[personality.Intro_extro == 'Introversion']['online_freq'])\n",
    "extro = emd.Cdf.from_seq(personality[personality.Intro_extro == 'Extroversion']['online_freq'])\n",
    "\n",
    "intro.plot(label= 'Intro')\n",
    "extro.plot(label= 'Extro')\n",
    "plt.legend()\n",
    "plt.grid()\n",
    "plt.xticks(list(range(0, 100, 5)))"
   ]
  },
  {
   "cell_type": "code",
   "execution_count": 37,
   "metadata": {},
   "outputs": [
    {
     "name": "stdout",
     "output_type": "stream",
     "text": [
      "9.0\n"
     ]
    },
    {
     "data": {
      "text/plain": [
       "array(7.)"
      ]
     },
     "execution_count": 37,
     "metadata": {},
     "output_type": "execute_result"
    }
   ],
   "source": [
    "# viewing the 90th percentiles\n",
    "print(intro.inverse(0.90))\n",
    "extro.inverse(0.9)\n",
    "\n",
    "# basically this means at the 90% of introverts share <= 9 links and 90% extroverts share <= 7 links."
   ]
  },
  {
   "cell_type": "code",
   "execution_count": 38,
   "metadata": {},
   "outputs": [],
   "source": [
    "# It seems that neglecting outliers the introverts have a very slightly higher online freq. This could just \n",
    "# be due to the fact that they are more in the dataset. we can't really say it show online dominance of \n",
    "# introverts. "
   ]
  },
  {
   "cell_type": "code",
   "execution_count": 39,
   "metadata": {},
   "outputs": [],
   "source": [
    "# some other question asked could be do intoverts or some class of personalities post longer texts than \n",
    "# others ?"
   ]
  },
  {
   "cell_type": "code",
   "execution_count": 40,
   "metadata": {},
   "outputs": [],
   "source": [
    "# some new feature \n",
    "# some cleaning.\n",
    "\n",
    "personality = remlinks_symbs(personality)"
   ]
  },
  {
   "cell_type": "code",
   "execution_count": 41,
   "metadata": {},
   "outputs": [],
   "source": [
    "personality.post = personality.post.apply(rem_pos)"
   ]
  },
  {
   "cell_type": "code",
   "execution_count": 42,
   "metadata": {},
   "outputs": [
    {
     "data": {
      "text/html": [
       "<div>\n",
       "<style scoped>\n",
       "    .dataframe tbody tr th:only-of-type {\n",
       "        vertical-align: middle;\n",
       "    }\n",
       "\n",
       "    .dataframe tbody tr th {\n",
       "        vertical-align: top;\n",
       "    }\n",
       "\n",
       "    .dataframe thead th {\n",
       "        text-align: right;\n",
       "    }\n",
       "</style>\n",
       "<table border=\"1\" class=\"dataframe\">\n",
       "  <thead>\n",
       "    <tr style=\"text-align: right;\">\n",
       "      <th></th>\n",
       "      <th>type</th>\n",
       "      <th>posts</th>\n",
       "      <th>online_freq</th>\n",
       "      <th>Intro_extro</th>\n",
       "      <th>post</th>\n",
       "    </tr>\n",
       "  </thead>\n",
       "  <tbody>\n",
       "    <tr>\n",
       "      <th>8670</th>\n",
       "      <td>ISFP</td>\n",
       "      <td>'https://www.youtube.com/watch?v=t8edHB_h908||...</td>\n",
       "      <td>7</td>\n",
       "      <td>Introversion</td>\n",
       "      <td>|||IxFP just because I always think of cats as...</td>\n",
       "    </tr>\n",
       "    <tr>\n",
       "      <th>8671</th>\n",
       "      <td>ENFP</td>\n",
       "      <td>'So...if this thread already exists someplace ...</td>\n",
       "      <td>2</td>\n",
       "      <td>Extroversion</td>\n",
       "      <td>So if this thread already exists someplace els...</td>\n",
       "    </tr>\n",
       "    <tr>\n",
       "      <th>8672</th>\n",
       "      <td>INTP</td>\n",
       "      <td>'So many questions when i do these things.  I ...</td>\n",
       "      <td>2</td>\n",
       "      <td>Introversion</td>\n",
       "      <td>So many questions when i do these things I wou...</td>\n",
       "    </tr>\n",
       "    <tr>\n",
       "      <th>8673</th>\n",
       "      <td>INFP</td>\n",
       "      <td>'I am very conflicted right now when it comes ...</td>\n",
       "      <td>0</td>\n",
       "      <td>Introversion</td>\n",
       "      <td>I am very conflicted right now when it comes t...</td>\n",
       "    </tr>\n",
       "    <tr>\n",
       "      <th>8674</th>\n",
       "      <td>INFP</td>\n",
       "      <td>'It has been too long since I have been on per...</td>\n",
       "      <td>3</td>\n",
       "      <td>Introversion</td>\n",
       "      <td>It has been too long since I have been on pers...</td>\n",
       "    </tr>\n",
       "  </tbody>\n",
       "</table>\n",
       "</div>"
      ],
      "text/plain": [
       "      type                                              posts  online_freq  \\\n",
       "8670  ISFP  'https://www.youtube.com/watch?v=t8edHB_h908||...            7   \n",
       "8671  ENFP  'So...if this thread already exists someplace ...            2   \n",
       "8672  INTP  'So many questions when i do these things.  I ...            2   \n",
       "8673  INFP  'I am very conflicted right now when it comes ...            0   \n",
       "8674  INFP  'It has been too long since I have been on per...            3   \n",
       "\n",
       "       Intro_extro                                               post  \n",
       "8670  Introversion  |||IxFP just because I always think of cats as...  \n",
       "8671  Extroversion  So if this thread already exists someplace els...  \n",
       "8672  Introversion  So many questions when i do these things I wou...  \n",
       "8673  Introversion  I am very conflicted right now when it comes t...  \n",
       "8674  Introversion  It has been too long since I have been on pers...  "
      ]
     },
     "execution_count": 42,
     "metadata": {},
     "output_type": "execute_result"
    }
   ],
   "source": [
    "personality.tail()"
   ]
  },
  {
   "cell_type": "code",
   "execution_count": 43,
   "metadata": {},
   "outputs": [],
   "source": [
    "# some posts aren't up to 50.\n",
    "t = personality.post[774]"
   ]
  },
  {
   "cell_type": "code",
   "execution_count": 44,
   "metadata": {},
   "outputs": [
    {
     "data": {
      "text/plain": [
       "\"Says you He's not cute he's pure evil in miniature form When he takes over the world we will be forced to have Mexican hat day every th of the month Those not wearing a mexican hat \""
      ]
     },
     "execution_count": 44,
     "metadata": {},
     "output_type": "execute_result"
    }
   ],
   "source": [
    "t"
   ]
  },
  {
   "cell_type": "code",
   "execution_count": 45,
   "metadata": {},
   "outputs": [],
   "source": [
    "def length_of_posts(post):\n",
    "    new_post = []\n",
    "    len_of_post = []\n",
    "# basically, we loop through the bunch of text and using the find all, we find every text till we get\n",
    "# to the seperator(|||), so that's one sentence. Then we remove the seperator{|||} and split words in each\n",
    "# sentence, then do a count.\n",
    "    for each_post in re.findall(r'[\\w\\' ]+[||]+', post):\n",
    "        #print(each_post)\n",
    "        each_post = each_post.replace('|', '')\n",
    "        new_post.append(each_post)\n",
    "    for each in new_post:\n",
    "        len_of_post.append(len(each.split()))\n",
    "    # we choose the average of the 25th and 75th percentiles after a few visualizations\n",
    "    \n",
    "    # in some cases the posts aren't up to 50 this could actually affect this feature because we would \n",
    "    # for instance in a case of two posts would be assuming that's the person's general post behaviour\n",
    "    \n",
    "    # we could take the number of posts as another feature to check if majority of the posts are many. \n",
    "    try:\n",
    "        value = int(round((np.percentile(len_of_post, 25)+ np.percentile(len_of_post, 75))/2))\n",
    "        return value\n",
    "    except IndexError:\n",
    "        return 0\n",
    " "
   ]
  },
  {
   "cell_type": "code",
   "execution_count": 46,
   "metadata": {},
   "outputs": [
    {
     "data": {
      "text/html": [
       "<div>\n",
       "<style scoped>\n",
       "    .dataframe tbody tr th:only-of-type {\n",
       "        vertical-align: middle;\n",
       "    }\n",
       "\n",
       "    .dataframe tbody tr th {\n",
       "        vertical-align: top;\n",
       "    }\n",
       "\n",
       "    .dataframe thead th {\n",
       "        text-align: right;\n",
       "    }\n",
       "</style>\n",
       "<table border=\"1\" class=\"dataframe\">\n",
       "  <thead>\n",
       "    <tr style=\"text-align: right;\">\n",
       "      <th></th>\n",
       "      <th>type</th>\n",
       "      <th>posts</th>\n",
       "      <th>online_freq</th>\n",
       "      <th>Intro_extro</th>\n",
       "      <th>post</th>\n",
       "    </tr>\n",
       "  </thead>\n",
       "  <tbody>\n",
       "    <tr>\n",
       "      <th>0</th>\n",
       "      <td>INFJ</td>\n",
       "      <td>'http://www.youtube.com/watch?v=qsXHcwe3krw|||...</td>\n",
       "      <td>24</td>\n",
       "      <td>Introversion</td>\n",
       "      <td>||||||enfp and intj moments |||What has been t...</td>\n",
       "    </tr>\n",
       "    <tr>\n",
       "      <th>1</th>\n",
       "      <td>ENTP</td>\n",
       "      <td>'I'm finding the lack of me in these posts ver...</td>\n",
       "      <td>9</td>\n",
       "      <td>Extroversion</td>\n",
       "      <td>I'm finding the lack of me in these posts very...</td>\n",
       "    </tr>\n",
       "    <tr>\n",
       "      <th>2</th>\n",
       "      <td>INTP</td>\n",
       "      <td>'Good one  _____   https://www.youtube.com/wat...</td>\n",
       "      <td>5</td>\n",
       "      <td>Introversion</td>\n",
       "      <td>Good one  |||Of course to which I say I know t...</td>\n",
       "    </tr>\n",
       "    <tr>\n",
       "      <th>3</th>\n",
       "      <td>INTJ</td>\n",
       "      <td>'Dear INTP,   I enjoyed our conversation the o...</td>\n",
       "      <td>2</td>\n",
       "      <td>Introversion</td>\n",
       "      <td>Dear INTP I enjoyed our conversation the other...</td>\n",
       "    </tr>\n",
       "    <tr>\n",
       "      <th>4</th>\n",
       "      <td>ENTJ</td>\n",
       "      <td>You're fired.|||That's another silly misconcep...</td>\n",
       "      <td>6</td>\n",
       "      <td>Extroversion</td>\n",
       "      <td>You're fired |||That's another silly misconcep...</td>\n",
       "    </tr>\n",
       "  </tbody>\n",
       "</table>\n",
       "</div>"
      ],
      "text/plain": [
       "   type                                              posts  online_freq  \\\n",
       "0  INFJ  'http://www.youtube.com/watch?v=qsXHcwe3krw|||...           24   \n",
       "1  ENTP  'I'm finding the lack of me in these posts ver...            9   \n",
       "2  INTP  'Good one  _____   https://www.youtube.com/wat...            5   \n",
       "3  INTJ  'Dear INTP,   I enjoyed our conversation the o...            2   \n",
       "4  ENTJ  You're fired.|||That's another silly misconcep...            6   \n",
       "\n",
       "    Intro_extro                                               post  \n",
       "0  Introversion  ||||||enfp and intj moments |||What has been t...  \n",
       "1  Extroversion  I'm finding the lack of me in these posts very...  \n",
       "2  Introversion  Good one  |||Of course to which I say I know t...  \n",
       "3  Introversion  Dear INTP I enjoyed our conversation the other...  \n",
       "4  Extroversion  You're fired |||That's another silly misconcep...  "
      ]
     },
     "execution_count": 46,
     "metadata": {},
     "output_type": "execute_result"
    }
   ],
   "source": [
    "personality.head()"
   ]
  },
  {
   "cell_type": "code",
   "execution_count": 47,
   "metadata": {},
   "outputs": [],
   "source": [
    "personality['len_of_posts'] = personality.post.apply(length_of_posts)"
   ]
  },
  {
   "cell_type": "code",
   "execution_count": 48,
   "metadata": {},
   "outputs": [
    {
     "data": {
      "text/html": [
       "<div>\n",
       "<style scoped>\n",
       "    .dataframe tbody tr th:only-of-type {\n",
       "        vertical-align: middle;\n",
       "    }\n",
       "\n",
       "    .dataframe tbody tr th {\n",
       "        vertical-align: top;\n",
       "    }\n",
       "\n",
       "    .dataframe thead th {\n",
       "        text-align: right;\n",
       "    }\n",
       "</style>\n",
       "<table border=\"1\" class=\"dataframe\">\n",
       "  <thead>\n",
       "    <tr style=\"text-align: right;\">\n",
       "      <th></th>\n",
       "      <th>type</th>\n",
       "      <th>posts</th>\n",
       "      <th>online_freq</th>\n",
       "      <th>Intro_extro</th>\n",
       "      <th>post</th>\n",
       "      <th>len_of_posts</th>\n",
       "    </tr>\n",
       "  </thead>\n",
       "  <tbody>\n",
       "    <tr>\n",
       "      <th>0</th>\n",
       "      <td>INFJ</td>\n",
       "      <td>'http://www.youtube.com/watch?v=qsXHcwe3krw|||...</td>\n",
       "      <td>24</td>\n",
       "      <td>Introversion</td>\n",
       "      <td>||||||enfp and intj moments |||What has been t...</td>\n",
       "      <td>15</td>\n",
       "    </tr>\n",
       "    <tr>\n",
       "      <th>1</th>\n",
       "      <td>ENTP</td>\n",
       "      <td>'I'm finding the lack of me in these posts ver...</td>\n",
       "      <td>9</td>\n",
       "      <td>Extroversion</td>\n",
       "      <td>I'm finding the lack of me in these posts very...</td>\n",
       "      <td>26</td>\n",
       "    </tr>\n",
       "    <tr>\n",
       "      <th>2</th>\n",
       "      <td>INTP</td>\n",
       "      <td>'Good one  _____   https://www.youtube.com/wat...</td>\n",
       "      <td>5</td>\n",
       "      <td>Introversion</td>\n",
       "      <td>Good one  |||Of course to which I say I know t...</td>\n",
       "      <td>22</td>\n",
       "    </tr>\n",
       "    <tr>\n",
       "      <th>3</th>\n",
       "      <td>INTJ</td>\n",
       "      <td>'Dear INTP,   I enjoyed our conversation the o...</td>\n",
       "      <td>2</td>\n",
       "      <td>Introversion</td>\n",
       "      <td>Dear INTP I enjoyed our conversation the other...</td>\n",
       "      <td>22</td>\n",
       "    </tr>\n",
       "    <tr>\n",
       "      <th>4</th>\n",
       "      <td>ENTJ</td>\n",
       "      <td>You're fired.|||That's another silly misconcep...</td>\n",
       "      <td>6</td>\n",
       "      <td>Extroversion</td>\n",
       "      <td>You're fired |||That's another silly misconcep...</td>\n",
       "      <td>22</td>\n",
       "    </tr>\n",
       "  </tbody>\n",
       "</table>\n",
       "</div>"
      ],
      "text/plain": [
       "   type                                              posts  online_freq  \\\n",
       "0  INFJ  'http://www.youtube.com/watch?v=qsXHcwe3krw|||...           24   \n",
       "1  ENTP  'I'm finding the lack of me in these posts ver...            9   \n",
       "2  INTP  'Good one  _____   https://www.youtube.com/wat...            5   \n",
       "3  INTJ  'Dear INTP,   I enjoyed our conversation the o...            2   \n",
       "4  ENTJ  You're fired.|||That's another silly misconcep...            6   \n",
       "\n",
       "    Intro_extro                                               post  \\\n",
       "0  Introversion  ||||||enfp and intj moments |||What has been t...   \n",
       "1  Extroversion  I'm finding the lack of me in these posts very...   \n",
       "2  Introversion  Good one  |||Of course to which I say I know t...   \n",
       "3  Introversion  Dear INTP I enjoyed our conversation the other...   \n",
       "4  Extroversion  You're fired |||That's another silly misconcep...   \n",
       "\n",
       "   len_of_posts  \n",
       "0            15  \n",
       "1            26  \n",
       "2            22  \n",
       "3            22  \n",
       "4            22  "
      ]
     },
     "execution_count": 48,
     "metadata": {},
     "output_type": "execute_result"
    }
   ],
   "source": [
    "personality.head()"
   ]
  },
  {
   "cell_type": "code",
   "execution_count": 49,
   "metadata": {},
   "outputs": [
    {
     "data": {
      "text/plain": [
       "<seaborn.axisgrid.FacetGrid at 0x28edfb0fb20>"
      ]
     },
     "execution_count": 49,
     "metadata": {},
     "output_type": "execute_result"
    },
    {
     "data": {
      "image/png": "[encoded data removed]",
      "text/plain": [
       "<Figure size 864x576 with 1 Axes>"
      ]
     },
     "metadata": {
      "needs_background": "light"
     },
     "output_type": "display_data"
    }
   ],
   "source": [
    "sns.catplot('type', 'len_of_posts', kind= 'box', data= personality, height= 8, aspect=1.5)"
   ]
  },
  {
   "cell_type": "code",
   "execution_count": 50,
   "metadata": {},
   "outputs": [],
   "source": [
    "# There's really no significant difference. For example entp and infj. Entp has a median of about 26words\n",
    "# infj has of about 29, so a difference of three. So generally some groups have slightly lower no of words.\n",
    "\n",
    "# But Esfp seems to have the lowest distribution as but they are also small in the data set, but they \n",
    "# aren't the estj and esfp are around the same number in the dataset so it can't really say their amount\n",
    "# in the dataset is a reason maybe that group actually don't post much"
   ]
  },
  {
   "cell_type": "markdown",
   "metadata": {},
   "source": [
    "Above we notice "
   ]
  },
  {
   "cell_type": "code",
   "execution_count": 51,
   "metadata": {},
   "outputs": [],
   "source": [
    "# Getting our final Train and test data"
   ]
  },
  {
   "cell_type": "code",
   "execution_count": 52,
   "metadata": {},
   "outputs": [],
   "source": [
    "labenc = LabelEncoder()"
   ]
  },
  {
   "cell_type": "code",
   "execution_count": 53,
   "metadata": {},
   "outputs": [],
   "source": [
    "personality['type_encoded'] = labenc.fit_transform(personality.type)"
   ]
  },
  {
   "cell_type": "code",
   "execution_count": 54,
   "metadata": {},
   "outputs": [],
   "source": [
    "X_train, X_test, y_train, y_test = train_test_split(personality.drop('type', axis= 1), \n",
    "                                                    personality.type_encoded, \n",
    "                                                    test_size=0.3, random_state=42,\n",
    "                                                    stratify= personality.type_encoded)"
   ]
  },
  {
   "cell_type": "code",
   "execution_count": 55,
   "metadata": {},
   "outputs": [
    {
     "data": {
      "text/plain": [
       "9     0.211133\n",
       "8     0.169466\n",
       "11    0.150362\n",
       "10    0.125823\n",
       "3     0.078887\n",
       "1     0.077734\n",
       "15    0.038867\n",
       "13    0.031291\n",
       "2     0.026680\n",
       "14    0.023715\n",
       "0     0.021904\n",
       "12    0.019104\n",
       "7     0.010211\n",
       "5     0.005599\n",
       "4     0.004776\n",
       "6     0.004447\n",
       "Name: type_encoded, dtype: float64"
      ]
     },
     "execution_count": 55,
     "metadata": {},
     "output_type": "execute_result"
    }
   ],
   "source": [
    "# using the stratify parameter we basically do a stratified split. so distribution of personality type \n",
    "# remains the same as in original dataset\n",
    "y_train.value_counts(normalize= True)"
   ]
  },
  {
   "cell_type": "code",
   "execution_count": 56,
   "metadata": {},
   "outputs": [],
   "source": [
    "new_features = ['online_freq', 'len_of_posts']"
   ]
  },
  {
   "cell_type": "code",
   "execution_count": 57,
   "metadata": {},
   "outputs": [
    {
     "name": "stdout",
     "output_type": "stream",
     "text": [
      "Wall time: 1min 40s\n"
     ]
    }
   ],
   "source": [
    "%%time\n",
    "# Here we just call the bow function of xtrain and xtest and it does the cleaning and vectorizing.\n",
    "train_test = BOW(X_train, X_test)"
   ]
  },
  {
   "cell_type": "code",
   "execution_count": 58,
   "metadata": {},
   "outputs": [],
   "source": [
    "train_vector = train_test[0]"
   ]
  },
  {
   "cell_type": "code",
   "execution_count": 59,
   "metadata": {},
   "outputs": [],
   "source": [
    "# adding other two features to train\n",
    "train_vector = pd.concat([train_vector, X_train[new_features].reset_index().drop('index', axis= 1)], \n",
    "                         axis= 1)"
   ]
  },
  {
   "cell_type": "code",
   "execution_count": 60,
   "metadata": {},
   "outputs": [
    {
     "data": {
      "text/html": [
       "<div>\n",
       "<style scoped>\n",
       "    .dataframe tbody tr th:only-of-type {\n",
       "        vertical-align: middle;\n",
       "    }\n",
       "\n",
       "    .dataframe tbody tr th {\n",
       "        vertical-align: top;\n",
       "    }\n",
       "\n",
       "    .dataframe thead th {\n",
       "        text-align: right;\n",
       "    }\n",
       "</style>\n",
       "<table border=\"1\" class=\"dataframe\">\n",
       "  <thead>\n",
       "    <tr style=\"text-align: right;\">\n",
       "      <th></th>\n",
       "      <th>abilities</th>\n",
       "      <th>ability</th>\n",
       "      <th>able</th>\n",
       "      <th>absolute</th>\n",
       "      <th>absolutely</th>\n",
       "      <th>absorbed</th>\n",
       "      <th>abstract</th>\n",
       "      <th>absurd</th>\n",
       "      <th>abuse</th>\n",
       "      <th>abusive</th>\n",
       "      <th>...</th>\n",
       "      <th>youre</th>\n",
       "      <th>youth</th>\n",
       "      <th>youtube</th>\n",
       "      <th>yup</th>\n",
       "      <th>z</th>\n",
       "      <th>zero</th>\n",
       "      <th>zombie</th>\n",
       "      <th>zone</th>\n",
       "      <th>online_freq</th>\n",
       "      <th>len_of_posts</th>\n",
       "    </tr>\n",
       "  </thead>\n",
       "  <tbody>\n",
       "    <tr>\n",
       "      <th>0</th>\n",
       "      <td>0.0</td>\n",
       "      <td>0.000000</td>\n",
       "      <td>0.0</td>\n",
       "      <td>0.0</td>\n",
       "      <td>0.030903</td>\n",
       "      <td>0.0</td>\n",
       "      <td>0.0</td>\n",
       "      <td>0.0</td>\n",
       "      <td>0.0</td>\n",
       "      <td>0.0</td>\n",
       "      <td>...</td>\n",
       "      <td>0.0</td>\n",
       "      <td>0.000000</td>\n",
       "      <td>0.0</td>\n",
       "      <td>0.0</td>\n",
       "      <td>0.0</td>\n",
       "      <td>0.0</td>\n",
       "      <td>0.0</td>\n",
       "      <td>0.0</td>\n",
       "      <td>2</td>\n",
       "      <td>30</td>\n",
       "    </tr>\n",
       "    <tr>\n",
       "      <th>1</th>\n",
       "      <td>0.0</td>\n",
       "      <td>0.000000</td>\n",
       "      <td>0.0</td>\n",
       "      <td>0.0</td>\n",
       "      <td>0.000000</td>\n",
       "      <td>0.0</td>\n",
       "      <td>0.0</td>\n",
       "      <td>0.0</td>\n",
       "      <td>0.0</td>\n",
       "      <td>0.0</td>\n",
       "      <td>...</td>\n",
       "      <td>0.0</td>\n",
       "      <td>0.000000</td>\n",
       "      <td>0.0</td>\n",
       "      <td>0.0</td>\n",
       "      <td>0.0</td>\n",
       "      <td>0.0</td>\n",
       "      <td>0.0</td>\n",
       "      <td>0.0</td>\n",
       "      <td>12</td>\n",
       "      <td>14</td>\n",
       "    </tr>\n",
       "    <tr>\n",
       "      <th>2</th>\n",
       "      <td>0.0</td>\n",
       "      <td>0.000000</td>\n",
       "      <td>0.0</td>\n",
       "      <td>0.0</td>\n",
       "      <td>0.000000</td>\n",
       "      <td>0.0</td>\n",
       "      <td>0.0</td>\n",
       "      <td>0.0</td>\n",
       "      <td>0.0</td>\n",
       "      <td>0.0</td>\n",
       "      <td>...</td>\n",
       "      <td>0.0</td>\n",
       "      <td>0.000000</td>\n",
       "      <td>0.0</td>\n",
       "      <td>0.0</td>\n",
       "      <td>0.0</td>\n",
       "      <td>0.0</td>\n",
       "      <td>0.0</td>\n",
       "      <td>0.0</td>\n",
       "      <td>24</td>\n",
       "      <td>20</td>\n",
       "    </tr>\n",
       "    <tr>\n",
       "      <th>3</th>\n",
       "      <td>0.0</td>\n",
       "      <td>0.026529</td>\n",
       "      <td>0.0</td>\n",
       "      <td>0.0</td>\n",
       "      <td>0.022244</td>\n",
       "      <td>0.0</td>\n",
       "      <td>0.0</td>\n",
       "      <td>0.0</td>\n",
       "      <td>0.0</td>\n",
       "      <td>0.0</td>\n",
       "      <td>...</td>\n",
       "      <td>0.0</td>\n",
       "      <td>0.000000</td>\n",
       "      <td>0.0</td>\n",
       "      <td>0.0</td>\n",
       "      <td>0.0</td>\n",
       "      <td>0.0</td>\n",
       "      <td>0.0</td>\n",
       "      <td>0.0</td>\n",
       "      <td>0</td>\n",
       "      <td>34</td>\n",
       "    </tr>\n",
       "    <tr>\n",
       "      <th>4</th>\n",
       "      <td>0.0</td>\n",
       "      <td>0.000000</td>\n",
       "      <td>0.0</td>\n",
       "      <td>0.0</td>\n",
       "      <td>0.000000</td>\n",
       "      <td>0.0</td>\n",
       "      <td>0.0</td>\n",
       "      <td>0.0</td>\n",
       "      <td>0.0</td>\n",
       "      <td>0.0</td>\n",
       "      <td>...</td>\n",
       "      <td>0.0</td>\n",
       "      <td>0.056129</td>\n",
       "      <td>0.0</td>\n",
       "      <td>0.0</td>\n",
       "      <td>0.0</td>\n",
       "      <td>0.0</td>\n",
       "      <td>0.0</td>\n",
       "      <td>0.0</td>\n",
       "      <td>3</td>\n",
       "      <td>33</td>\n",
       "    </tr>\n",
       "  </tbody>\n",
       "</table>\n",
       "<p>5 rows × 3502 columns</p>\n",
       "</div>"
      ],
      "text/plain": [
       "   abilities   ability  able  absolute  absolutely  absorbed  abstract  \\\n",
       "0        0.0  0.000000   0.0       0.0    0.030903       0.0       0.0   \n",
       "1        0.0  0.000000   0.0       0.0    0.000000       0.0       0.0   \n",
       "2        0.0  0.000000   0.0       0.0    0.000000       0.0       0.0   \n",
       "3        0.0  0.026529   0.0       0.0    0.022244       0.0       0.0   \n",
       "4        0.0  0.000000   0.0       0.0    0.000000       0.0       0.0   \n",
       "\n",
       "   absurd  abuse  abusive  ...  youre     youth  youtube  yup    z  zero  \\\n",
       "0     0.0    0.0      0.0  ...    0.0  0.000000      0.0  0.0  0.0   0.0   \n",
       "1     0.0    0.0      0.0  ...    0.0  0.000000      0.0  0.0  0.0   0.0   \n",
       "2     0.0    0.0      0.0  ...    0.0  0.000000      0.0  0.0  0.0   0.0   \n",
       "3     0.0    0.0      0.0  ...    0.0  0.000000      0.0  0.0  0.0   0.0   \n",
       "4     0.0    0.0      0.0  ...    0.0  0.056129      0.0  0.0  0.0   0.0   \n",
       "\n",
       "   zombie  zone  online_freq  len_of_posts  \n",
       "0     0.0   0.0            2            30  \n",
       "1     0.0   0.0           12            14  \n",
       "2     0.0   0.0           24            20  \n",
       "3     0.0   0.0            0            34  \n",
       "4     0.0   0.0            3            33  \n",
       "\n",
       "[5 rows x 3502 columns]"
      ]
     },
     "execution_count": 60,
     "metadata": {},
     "output_type": "execute_result"
    }
   ],
   "source": [
    "train_vector.head()"
   ]
  },
  {
   "cell_type": "code",
   "execution_count": 61,
   "metadata": {},
   "outputs": [],
   "source": [
    "test_vector = train_test[1]"
   ]
  },
  {
   "cell_type": "code",
   "execution_count": 62,
   "metadata": {},
   "outputs": [],
   "source": [
    "# adding other two features to test\n",
    "test_vector = pd.concat([test_vector, X_test[new_features].reset_index().drop('index', axis= 1)], \n",
    "                         axis= 1)"
   ]
  },
  {
   "cell_type": "code",
   "execution_count": 63,
   "metadata": {},
   "outputs": [
    {
     "data": {
      "text/html": [
       "<div>\n",
       "<style scoped>\n",
       "    .dataframe tbody tr th:only-of-type {\n",
       "        vertical-align: middle;\n",
       "    }\n",
       "\n",
       "    .dataframe tbody tr th {\n",
       "        vertical-align: top;\n",
       "    }\n",
       "\n",
       "    .dataframe thead th {\n",
       "        text-align: right;\n",
       "    }\n",
       "</style>\n",
       "<table border=\"1\" class=\"dataframe\">\n",
       "  <thead>\n",
       "    <tr style=\"text-align: right;\">\n",
       "      <th></th>\n",
       "      <th>abilities</th>\n",
       "      <th>ability</th>\n",
       "      <th>able</th>\n",
       "      <th>absolute</th>\n",
       "      <th>absolutely</th>\n",
       "      <th>absorbed</th>\n",
       "      <th>abstract</th>\n",
       "      <th>absurd</th>\n",
       "      <th>abuse</th>\n",
       "      <th>abusive</th>\n",
       "      <th>...</th>\n",
       "      <th>youre</th>\n",
       "      <th>youth</th>\n",
       "      <th>youtube</th>\n",
       "      <th>yup</th>\n",
       "      <th>z</th>\n",
       "      <th>zero</th>\n",
       "      <th>zombie</th>\n",
       "      <th>zone</th>\n",
       "      <th>online_freq</th>\n",
       "      <th>len_of_posts</th>\n",
       "    </tr>\n",
       "  </thead>\n",
       "  <tbody>\n",
       "    <tr>\n",
       "      <th>0</th>\n",
       "      <td>0.0</td>\n",
       "      <td>0.0</td>\n",
       "      <td>0.000000</td>\n",
       "      <td>0.0</td>\n",
       "      <td>0.0</td>\n",
       "      <td>0.0</td>\n",
       "      <td>0.000000</td>\n",
       "      <td>0.000000</td>\n",
       "      <td>0.0</td>\n",
       "      <td>0.0</td>\n",
       "      <td>...</td>\n",
       "      <td>0.0</td>\n",
       "      <td>0.0</td>\n",
       "      <td>0.0</td>\n",
       "      <td>0.0</td>\n",
       "      <td>0.0</td>\n",
       "      <td>0.000000</td>\n",
       "      <td>0.0</td>\n",
       "      <td>0.000000</td>\n",
       "      <td>0</td>\n",
       "      <td>29</td>\n",
       "    </tr>\n",
       "    <tr>\n",
       "      <th>1</th>\n",
       "      <td>0.0</td>\n",
       "      <td>0.0</td>\n",
       "      <td>0.000000</td>\n",
       "      <td>0.0</td>\n",
       "      <td>0.0</td>\n",
       "      <td>0.0</td>\n",
       "      <td>0.000000</td>\n",
       "      <td>0.000000</td>\n",
       "      <td>0.0</td>\n",
       "      <td>0.0</td>\n",
       "      <td>...</td>\n",
       "      <td>0.0</td>\n",
       "      <td>0.0</td>\n",
       "      <td>0.0</td>\n",
       "      <td>0.0</td>\n",
       "      <td>0.0</td>\n",
       "      <td>0.000000</td>\n",
       "      <td>0.0</td>\n",
       "      <td>0.000000</td>\n",
       "      <td>8</td>\n",
       "      <td>12</td>\n",
       "    </tr>\n",
       "    <tr>\n",
       "      <th>2</th>\n",
       "      <td>0.0</td>\n",
       "      <td>0.0</td>\n",
       "      <td>0.000000</td>\n",
       "      <td>0.0</td>\n",
       "      <td>0.0</td>\n",
       "      <td>0.0</td>\n",
       "      <td>0.047737</td>\n",
       "      <td>0.059911</td>\n",
       "      <td>0.0</td>\n",
       "      <td>0.0</td>\n",
       "      <td>...</td>\n",
       "      <td>0.0</td>\n",
       "      <td>0.0</td>\n",
       "      <td>0.0</td>\n",
       "      <td>0.0</td>\n",
       "      <td>0.0</td>\n",
       "      <td>0.055111</td>\n",
       "      <td>0.0</td>\n",
       "      <td>0.000000</td>\n",
       "      <td>0</td>\n",
       "      <td>28</td>\n",
       "    </tr>\n",
       "    <tr>\n",
       "      <th>3</th>\n",
       "      <td>0.0</td>\n",
       "      <td>0.0</td>\n",
       "      <td>0.028447</td>\n",
       "      <td>0.0</td>\n",
       "      <td>0.0</td>\n",
       "      <td>0.0</td>\n",
       "      <td>0.000000</td>\n",
       "      <td>0.000000</td>\n",
       "      <td>0.0</td>\n",
       "      <td>0.0</td>\n",
       "      <td>...</td>\n",
       "      <td>0.0</td>\n",
       "      <td>0.0</td>\n",
       "      <td>0.0</td>\n",
       "      <td>0.0</td>\n",
       "      <td>0.0</td>\n",
       "      <td>0.000000</td>\n",
       "      <td>0.0</td>\n",
       "      <td>0.055473</td>\n",
       "      <td>2</td>\n",
       "      <td>26</td>\n",
       "    </tr>\n",
       "    <tr>\n",
       "      <th>4</th>\n",
       "      <td>0.0</td>\n",
       "      <td>0.0</td>\n",
       "      <td>0.000000</td>\n",
       "      <td>0.0</td>\n",
       "      <td>0.0</td>\n",
       "      <td>0.0</td>\n",
       "      <td>0.000000</td>\n",
       "      <td>0.000000</td>\n",
       "      <td>0.0</td>\n",
       "      <td>0.0</td>\n",
       "      <td>...</td>\n",
       "      <td>0.0</td>\n",
       "      <td>0.0</td>\n",
       "      <td>0.0</td>\n",
       "      <td>0.0</td>\n",
       "      <td>0.0</td>\n",
       "      <td>0.000000</td>\n",
       "      <td>0.0</td>\n",
       "      <td>0.000000</td>\n",
       "      <td>1</td>\n",
       "      <td>26</td>\n",
       "    </tr>\n",
       "  </tbody>\n",
       "</table>\n",
       "<p>5 rows × 3502 columns</p>\n",
       "</div>"
      ],
      "text/plain": [
       "   abilities  ability      able  absolute  absolutely  absorbed  abstract  \\\n",
       "0        0.0      0.0  0.000000       0.0         0.0       0.0  0.000000   \n",
       "1        0.0      0.0  0.000000       0.0         0.0       0.0  0.000000   \n",
       "2        0.0      0.0  0.000000       0.0         0.0       0.0  0.047737   \n",
       "3        0.0      0.0  0.028447       0.0         0.0       0.0  0.000000   \n",
       "4        0.0      0.0  0.000000       0.0         0.0       0.0  0.000000   \n",
       "\n",
       "     absurd  abuse  abusive  ...  youre  youth  youtube  yup    z      zero  \\\n",
       "0  0.000000    0.0      0.0  ...    0.0    0.0      0.0  0.0  0.0  0.000000   \n",
       "1  0.000000    0.0      0.0  ...    0.0    0.0      0.0  0.0  0.0  0.000000   \n",
       "2  0.059911    0.0      0.0  ...    0.0    0.0      0.0  0.0  0.0  0.055111   \n",
       "3  0.000000    0.0      0.0  ...    0.0    0.0      0.0  0.0  0.0  0.000000   \n",
       "4  0.000000    0.0      0.0  ...    0.0    0.0      0.0  0.0  0.0  0.000000   \n",
       "\n",
       "   zombie      zone  online_freq  len_of_posts  \n",
       "0     0.0  0.000000            0            29  \n",
       "1     0.0  0.000000            8            12  \n",
       "2     0.0  0.000000            0            28  \n",
       "3     0.0  0.055473            2            26  \n",
       "4     0.0  0.000000            1            26  \n",
       "\n",
       "[5 rows x 3502 columns]"
      ]
     },
     "execution_count": 63,
     "metadata": {},
     "output_type": "execute_result"
    }
   ],
   "source": [
    "test_vector.head()"
   ]
  },
  {
   "cell_type": "code",
   "execution_count": 64,
   "metadata": {},
   "outputs": [],
   "source": [
    "## MODELLING"
   ]
  },
  {
   "cell_type": "code",
   "execution_count": 65,
   "metadata": {},
   "outputs": [],
   "source": [
    "xg = XGBClassifier()"
   ]
  },
  {
   "cell_type": "code",
   "execution_count": 66,
   "metadata": {},
   "outputs": [
    {
     "name": "stderr",
     "output_type": "stream",
     "text": [
      "C:\\Users\\Chigozie\\anaconda3\\lib\\site-packages\\xgboost\\sklearn.py:1146: UserWarning: The use of label encoder in XGBClassifier is deprecated and will be removed in a future release. To remove this warning, do the following: 1) Pass option use_label_encoder=False when constructing XGBClassifier object; and 2) Encode your labels (y) as integers starting with 0, i.e. 0, 1, 2, ..., [num_class - 1].\n",
      "  warnings.warn(label_encoder_deprecation_msg, UserWarning)\n"
     ]
    },
    {
     "name": "stdout",
     "output_type": "stream",
     "text": [
      "[15:00:54] WARNING: C:/Users/Administrator/workspace/xgboost-win64_release_1.4.0/src/learner.cc:1095: Starting in XGBoost 1.3.0, the default evaluation metric used with the objective 'multi:softprob' was changed from 'merror' to 'mlogloss'. Explicitly set eval_metric if you'd like to restore the old behavior.\n"
     ]
    },
    {
     "data": {
      "text/plain": [
       "XGBClassifier(base_score=0.5, booster='gbtree', colsample_bylevel=1,\n",
       "              colsample_bynode=1, colsample_bytree=1, gamma=0, gpu_id=-1,\n",
       "              importance_type='gain', interaction_constraints='',\n",
       "              learning_rate=0.300000012, max_delta_step=0, max_depth=6,\n",
       "              min_child_weight=1, missing=nan, monotone_constraints='()',\n",
       "              n_estimators=100, n_jobs=8, num_parallel_tree=1,\n",
       "              objective='multi:softprob', random_state=0, reg_alpha=0,\n",
       "              reg_lambda=1, scale_pos_weight=None, subsample=1,\n",
       "              tree_method='exact', validate_parameters=1, verbosity=None)"
      ]
     },
     "execution_count": 66,
     "metadata": {},
     "output_type": "execute_result"
    }
   ],
   "source": [
    "xg.fit(train_vector, y_train)"
   ]
  },
  {
   "cell_type": "code",
   "execution_count": 67,
   "metadata": {},
   "outputs": [],
   "source": [
    "xg_pred = xg.predict(test_vector)"
   ]
  },
  {
   "cell_type": "code",
   "execution_count": 70,
   "metadata": {},
   "outputs": [
    {
     "data": {
      "text/plain": [
       "0.6638494045332309"
      ]
     },
     "execution_count": 70,
     "metadata": {},
     "output_type": "execute_result"
    }
   ],
   "source": [
    "accuracy_score(y_test, xg_pred)"
   ]
  },
  {
   "cell_type": "code",
   "execution_count": null,
   "metadata": {},
   "outputs": [],
   "source": []
  }
 ],
 "metadata": {
  "kernelspec": {
   "display_name": "Python 3",
   "language": "python",
   "name": "python3"
  },
  "language_info": {
   "codemirror_mode": {
    "name": "ipython",
    "version": 3
   },
   "file_extension": ".py",
   "mimetype": "text/x-python",
   "name": "python",
   "nbconvert_exporter": "python",
   "pygments_lexer": "ipython3",
   "version": "3.8.3"
  }
 },
 "nbformat": 4,
 "nbformat_minor": 4
}
